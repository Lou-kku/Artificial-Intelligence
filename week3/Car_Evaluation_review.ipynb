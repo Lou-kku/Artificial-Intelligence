{
 "cells": [
  {
   "cell_type": "markdown",
   "metadata": {},
   "source": [
    "# 3주차 실습 정리 \n",
    "### car evaluation(자동차 평가) 분류하기 \n",
    "\n",
    "파일불러와서 데이터를 확인"
   ]
  },
  {
   "cell_type": "code",
   "execution_count": null,
   "metadata": {
    "colab": {
     "base_uri": "https://localhost:8080/"
    },
    "id": "Q8gk8xcZr2xs",
    "outputId": "25030b2e-5508-4338-c391-b5235b9dd1dd",
    "scrolled": true
   },
   "outputs": [
    {
     "name": "stdout",
     "output_type": "stream",
     "text": [
      "       0      1  2  3      4     5      6\n",
      "0  vhigh  vhigh  2  2  small   low  unacc\n",
      "1  vhigh  vhigh  2  2  small   med  unacc\n",
      "2  vhigh  vhigh  2  2  small  high  unacc\n",
      "3  vhigh  vhigh  2  2    med   low  unacc\n",
      "4  vhigh  vhigh  2  2    med   med  unacc\n",
      "Index([0, 1, 2, 3, 4, 5, 6], dtype='int64')\n"
     ]
    }
   ],
   "source": [
    "import pandas as pd\n",
    "from sklearn.model_selection import train_test_split\n",
    "from sklearn.metrics import classification_report\n",
    "from sklearn.metrics import accuracy_score, confusion_matrix\n",
    "\n",
    "# CSV 파일 읽기\n",
    "file_path = \"/content/drive/MyDrive/car_evaluation.csv\"\n",
    "df = pd.read_csv(file_path, header = None)\n",
    "\n",
    "# 데이터 확인\n",
    "print(df.head())\n",
    "print(df.columns)"
   ]
  },
  {
   "cell_type": "markdown",
   "metadata": {},
   "source": [
    
    "## 컬럼이 없음! 컬럼을 부여!"
   ]
  },
  {
   "cell_type": "code",
   "execution_count": null,
   "metadata": {
    "colab": {
     "base_uri": "https://localhost:8080/"
    },
    "id": "4CXLqi59secX",
    "outputId": "c6265474-d710-4c62-d591-dd84f699472f"
   },
   "outputs": [
    {
     "name": "stdout",
     "output_type": "stream",
     "text": [
      "Index(['buying', 'maint', 'doors', 'persons', 'lug_capacity', 'safety',\n",
      "       'class'],\n",
      "      dtype='object')\n",
      "  buying  maint doors persons lug_capacity safety  class\n",
      "0  vhigh  vhigh     2       2        small    low  unacc\n",
      "1  vhigh  vhigh     2       2        small    med  unacc\n",
      "2  vhigh  vhigh     2       2        small   high  unacc\n",
      "3  vhigh  vhigh     2       2          med    low  unacc\n",
      "4  vhigh  vhigh     2       2          med    med  unacc\n"
     ]
    }
   ],
   "source": [
    "import pandas as pd\n",
    "\n",
    "df.columns = [\"buying\", \"maint\", \"doors\", \"persons\", \"lug_capacity\", \"safety\", \"class\"]\n",
    "print(df.columns)\n",
    "print(df.head())"
   ]
  },
  {
   "cell_type": "markdown",
   "metadata": {},
   "source": [
    "## 컬럼이 생겼으니 다시 평소대로 분류시작"
   ]
  },
  {
   "cell_type": "code",
   "execution_count": null,
   "metadata": {
    "colab": {
     "base_uri": "https://localhost:8080/",
     "height": 303
    },
    "id": "pcQovC12t2Vt",
    "outputId": "3774e85f-90e7-4810-8d7b-38f7f44e08a5"
   },
   "outputs": [
    {
     "data": {
      "text/html": [
       "<div>\n",
       "<style scoped>\n",
       "    .dataframe tbody tr th:only-of-type {\n",
       "        vertical-align: middle;\n",
       "    }\n",
       "\n",
       "    .dataframe tbody tr th {\n",
       "        vertical-align: top;\n",
       "    }\n",
       "\n",
       "    .dataframe thead th {\n",
       "        text-align: right;\n",
       "    }\n",
       "</style>\n",
       "<table border=\"1\" class=\"dataframe\">\n",
       "  <thead>\n",
       "    <tr style=\"text-align: right;\">\n",
       "      <th></th>\n",
       "      <th>0</th>\n",
       "    </tr>\n",
       "  </thead>\n",
       "  <tbody>\n",
       "    <tr>\n",
       "      <th>buying</th>\n",
       "      <td>0</td>\n",
       "    </tr>\n",
       "    <tr>\n",
       "      <th>maint</th>\n",
       "      <td>0</td>\n",
       "    </tr>\n",
       "    <tr>\n",
       "      <th>doors</th>\n",
       "      <td>0</td>\n",
       "    </tr>\n",
       "    <tr>\n",
       "      <th>persons</th>\n",
       "      <td>0</td>\n",
       "    </tr>\n",
       "    <tr>\n",
       "      <th>lug_capacity</th>\n",
       "      <td>0</td>\n",
       "    </tr>\n",
       "    <tr>\n",
       "      <th>safety</th>\n",
       "      <td>0</td>\n",
       "    </tr>\n",
       "    <tr>\n",
       "      <th>class</th>\n",
       "      <td>0</td>\n",
       "    </tr>\n",
       "  </tbody>\n",
       "</table>\n",
       "</div><br><label><b>dtype:</b> int64</label>"
      ],
      "text/plain": [
       "buying          0\n",
       "maint           0\n",
       "doors           0\n",
       "persons         0\n",
       "lug_capacity    0\n",
       "safety          0\n",
       "class           0\n",
       "dtype: int64"
      ]
     },
     "execution_count": 9,
     "metadata": {},
     "output_type": "execute_result"
    }
   ],
   "source": [
    "\n",
    "# 결측치 확인\n",
    "df.isnull().sum()"
   ]
  },
  {
   "cell_type": "code",
   "execution_count": null,
   "metadata": {
    "colab": {
     "base_uri": "https://localhost:8080/"
    },
    "id": "pHLx-d_5uBRl",
    "outputId": "f1954515-e570-4b66-8fdb-acb86b8ad0a8"
   },
   "outputs": [
    {
     "name": "stdout",
     "output_type": "stream",
     "text": [
      "class\n",
      "unacc    1210\n",
      "acc       384\n",
      "good       69\n",
      "vgood      65\n",
      "Name: count, dtype: int64\n"
     ]
    }
   ],
   "source": [
    "# 레이블 확인\n",
    "print(df['class'].value_counts())"
   ]
  },
  {
   "cell_type": "markdown",
   "metadata": {},
   "source": [
    "## 숫자가 아닌 데이터들이 있으면 분류를 할 수 없기 때문에\n",
    "## 데이터들을 모두 숫자로 교체"
   ]
  },
  {
   "cell_type": "code",
   "execution_count": null,
   "metadata": {
    "colab": {
     "base_uri": "https://localhost:8080/"
    },
    "id": "TWc69z4QuFXc",
    "outputId": "4c68b641-2fa9-4911-d780-9c42d46f922c"
   },
   "outputs": [
    {
     "name": "stdout",
     "output_type": "stream",
     "text": [
      "   buying  maint  doors  persons  lug_capacity  safety  class\n",
      "0       3      3      0        0             2       1      2\n",
      "1       3      3      0        0             2       2      2\n",
      "2       3      3      0        0             2       0      2\n",
      "3       3      3      0        0             1       1      2\n",
      "4       3      3      0        0             1       2      2\n"
     ]
    }
   ],
   "source": [
    "\n",
    "from sklearn.preprocessing import LabelEncoder\n",
    "\n",
    "label_encoders = {}\n",
    "for col in df.columns:\n",
    "    le = LabelEncoder()\n",
    "    df[col] = le.fit_transform(df[col])  # 각 컬럼을 숫자로 변환\n",
    "    label_encoders[col] = le  # 변환기 저장 (나중에 역변환 가능)\n",
    "\n",
    "print(df.head())  # 변환된 데이터 확인"
   ]
  },
  {
   "cell_type": "markdown",
   "metadata": {},
   "source": [
    "## df.drop('class', axis=1).values\n",
    "df.drop('class', axis=1) → class 열을 제외한 새로운 Pandas DataFrame 생성\n",
    ".values → DataFrame을 **NumPy 배열(numpy.ndarray)** 로 변환\n",
    "## df['class'].values\n",
    "df['class'] → class 열을 Series 형태로 가져옴\n",
    ".values → Series를 **NumPy 배열(numpy.ndarray)** 로 변환"
   ]
  },
  {
   "cell_type": "code",
   "execution_count": null,
   "metadata": {
    "colab": {
     "base_uri": "https://localhost:8080/"
    },
    "id": "ymiM8DKGw56C",
    "outputId": "a6e13b6d-6777-4f79-add2-4a30596d23a5"
   },
   "outputs": [
    {
     "data": {
      "text/plain": [
       "array([[3, 3, 0, 0, 2, 1],\n",
       "       [3, 3, 0, 0, 2, 2],\n",
       "       [3, 3, 0, 0, 2, 0],\n",
       "       ...,\n",
       "       [1, 1, 3, 2, 0, 1],\n",
       "       [1, 1, 3, 2, 0, 2],\n",
       "       [1, 1, 3, 2, 0, 0]])"
      ]
     },
     "execution_count": 16,
     "metadata": {},
     "output_type": "execute_result"
    }
   ],
   "source": [
    "# 타겟 변수와 독립 변수 분리\n",
    "X = df.drop('class', axis=1).values\n",
    "y = df['class'].values\n",
    "\n",
    "X\n"
   ]
  },
  {
   "cell_type": "code",
   "execution_count": null,
   "metadata": {
    "colab": {
     "base_uri": "https://localhost:8080/"
    },
    "id": "ioRRlUrQxiKs",
    "outputId": "7eefced9-9da9-4e4d-ad20-7bc0dae21535"
   },
   "outputs": [
    {
     "data": {
      "text/plain": [
       "array([2, 2, 2, ..., 2, 1, 3])"
      ]
     },
     "execution_count": 17,
     "metadata": {},
     "output_type": "execute_result"
    }
   ],
   "source": [
    "y"
   ]
  },
  {
   "cell_type": "code",
   "execution_count": null,
   "metadata": {
    "id": "925tsLyfw6EN"
   },
   "outputs": [],
   "source": [
    "from sklearn.preprocessing import StandardScaler\n",
    "\n",
    "#Standardize the data\n",
    "scaler = StandardScaler()\n",
    "X = scaler.fit_transform(X)\n",
    "\n",
    "\n",
    "# 훈련용 데이터와 테스트용 데이터로 분할\n",
    "X_train, X_test, y_train, y_test = train_test_split(X, y, test_size=0.3, random_state=42)"
   ]
  },
  {
   "cell_type": "code",
   "execution_count": null,
   "metadata": {
    "colab": {
     "base_uri": "https://localhost:8080/"
    },
    "id": "Nfp7WuXszAlH",
    "outputId": "30e389d7-041e-45aa-a6a9-cc5a75255202"
   },
   "outputs": [
    {
     "data": {
      "text/plain": [
       "((1209, 6), (519, 6), (1209,), (519,))"
      ]
     },
     "execution_count": 21,
     "metadata": {},
     "output_type": "execute_result"
    }
   ],
   "source": [
    "X_train.shape,X_test.shape, y_train.shape,y_test.shape"
   ]
  },
  {
   "cell_type": "code",
   "execution_count": null,
   "metadata": {
    "colab": {
     "base_uri": "https://localhost:8080/"
    },
    "id": "LHj3V7IHzuq9",
    "outputId": "cdcc45a6-5b19-4811-f2be-afa98f80984b"
   },
   "outputs": [
    {
     "name": "stdout",
     "output_type": "stream",
     "text": [
      "Accuracy: 97.11%\n",
      "Confusion Matrix:\n",
      "[[111   6   1   0]\n",
      " [  1  18   0   0]\n",
      " [  4   0 354   0]\n",
      " [  3   0   0  21]]\n"
     ]
    }
   ],
   "source": [
    "\n",
    "from sklearn.tree import DecisionTreeClassifier\n",
    "\n",
    "# DT 모델 생성\n",
    "dt_model = DecisionTreeClassifier(random_state=42)\n",
    "\n",
    "# 모델 학습\n",
    "dt_model.fit(X_train, y_train)\n",
    "\n",
    "# 예측\n",
    "y_pred = dt_model.predict(X_test)\n",
    "\n",
    "# 정확도 확인\n",
    "accuracy = accuracy_score(y_test, y_pred)\n",
    "print(f\"Accuracy: {accuracy * 100:.2f}%\")\n",
    "\n",
    "# 혼동 행렬 확인\n",
    "cm = confusion_matrix(y_test, y_pred)\n",
    "print(\"Confusion Matrix:\")\n",
    "print(cm)"
   ]
  },
  {
   "cell_type": "code",
   "execution_count": null,
   "metadata": {
    "colab": {
     "base_uri": "https://localhost:8080/"
    },
    "id": "NTmsOCcr0iIO",
    "outputId": "5edc2a44-2a8f-4586-c10c-b58a0fdf2b03"
   },
   "outputs": [
    {
     "name": "stdout",
     "output_type": "stream",
     "text": [
      "Accuracy: 66.28%\n",
      "Confusion Matrix:\n",
      "[[ 20   0  92   6]\n",
      " [  3   0  16   0]\n",
      " [ 34   0 323   1]\n",
      " [ 12   0  11   1]]\n"
     ]
    }
   ],
   "source": [
    "from sklearn.linear_model import LogisticRegression\n",
    "\n",
    "# LR모델 생성\n",
    "lr_model = LogisticRegression(max_iter=1000, random_state=42)\n",
    "\n",
    "# 모델 학습\n",
    "lr_model.fit(X_train, y_train)\n",
    "\n",
    "# 예측\n",
    "y_pred_lr = lr_model.predict(X_test)\n",
    "\n",
    "# 정확도 출력\n",
    "accuracy_lr = accuracy_score(y_test, y_pred_lr)\n",
    "print(f\"Accuracy: {accuracy_lr * 100:.2f}%\")\n",
    "\n",
    "# 혼동 행렬 계산 및 출력\n",
    "cm_lr = confusion_matrix(y_test, y_pred_lr)\n",
    "print(\"Confusion Matrix:\")\n",
    "print(cm_lr)"
   ]
  },
  {
   "cell_type": "code",
   "execution_count": null,
   "metadata": {
    "colab": {
     "base_uri": "https://localhost:8080/"
    },
    "id": "SgRN_7ti0nVF",
    "outputId": "88e433ec-ef59-460e-ab92-60b0cff5fa46",
    "scrolled": true
   },
   "outputs": [
    {
     "name": "stdout",
     "output_type": "stream",
     "text": [
      "Accuracy: 91.33%\n",
      "Confusion Matrix:\n",
      "[[104   1  12   1]\n",
      " [ 14   3   0   2]\n",
      " [ 12   0 346   0]\n",
      " [  3   0   0  21]]\n"
     ]
    }
   ],
   "source": [
    "\n",
    "from sklearn.svm import SVC\n",
    "\n",
    "# SVM모델 생성 (커널은 RBF 사용)\n",
    "svm_model = SVC(kernel='rbf', random_state=42)\n",
    "\n",
    "# 모델 학습\n",
    "svm_model.fit(X_train, y_train)\n",
    "\n",
    "# 예측\n",
    "y_pred_svm = svm_model.predict(X_test)\n",
    "\n",
    "# 정확도 출력\n",
    "accuracy_svm = accuracy_score(y_test, y_pred_svm)\n",
    "print(f\"Accuracy: {accuracy_svm * 100:.2f}%\")\n",
    "\n",
    "# 혼동 행렬 계산 및 출력\n",
    "cm_svm = confusion_matrix(y_test, y_pred_svm)\n",
    "print(\"Confusion Matrix:\")\n",
    "print(cm_svm)"
   ]
  },
  {
   "cell_type": "code",
   "execution_count": null,
   "metadata": {
    "colab": {
     "base_uri": "https://localhost:8080/"
    },
    "id": "M8-72c3R0pdQ",
    "outputId": "8306c284-96ff-483e-f7b9-a85225d5f767"
   },
   "outputs": [
    {
     "name": "stdout",
     "output_type": "stream",
     "text": [
      "Accuracy: 92.49%\n",
      "Confusion Matrix:\n",
      "[[104   0  11   3]\n",
      " [ 11   7   0   1]\n",
      " [  4   0 354   0]\n",
      " [  6   1   2  15]]\n"
     ]
    }
   ],
   "source": [
    "from sklearn.neighbors import KNeighborsClassifier\n",
    "\n",
    "# KNN모델 생성\n",
    "knn_model = KNeighborsClassifier(n_neighbors=5)\n",
    "\n",
    "# 모델 학습\n",
    "knn_model.fit(X_train, y_train)\n",
    "\n",
    "# 예측\n",
    "y_pred_knn = knn_model.predict(X_test)\n",
    "\n",
    "# 정확도 출력\n",
    "accuracy_knn = accuracy_score(y_test, y_pred_knn)\n",
    "print(f\"Accuracy: {accuracy_knn * 100:.2f}%\")\n",
    "\n",
    "# 혼동 행렬 계산 및 출력\n",
    "cm_knn = confusion_matrix(y_test, y_pred_knn)\n",
    "print(\"Confusion Matrix:\")\n",
    "print(cm_knn)"
   ]
  }
 ],
 "metadata": {
  "colab": {
   "provenance": []
  },
  "kernelspec": {
   "display_name": "Python [conda env:base] *",
   "language": "python",
   "name": "conda-base-py"
  },
  "language_info": {
   "codemirror_mode": {
    "name": "ipython",
    "version": 3
   },
   "file_extension": ".py",
   "mimetype": "text/x-python",
   "name": "python",
   "nbconvert_exporter": "python",
   "pygments_lexer": "ipython3",
   "version": "3.12.7"
  }
 },
 "nbformat": 4,
 "nbformat_minor": 4
}
